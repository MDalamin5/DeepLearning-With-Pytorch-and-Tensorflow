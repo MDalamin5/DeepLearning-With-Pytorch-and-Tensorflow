{
 "cells": [
  {
   "cell_type": "markdown",
   "metadata": {},
   "source": [
    "# ***Multi class classification Problem and solve by ANN***"
   ]
  },
  {
   "cell_type": "code",
   "execution_count": 6,
   "metadata": {},
   "outputs": [],
   "source": [
    "import pandas as pd\n",
    "from sklearn.model_selection import train_test_split\n",
    "import torch\n",
    "from torch.utils.data import Dataset, DataLoader\n",
    "import torch.nn as nn\n",
    "import torch.optim as optim\n",
    "import matplotlib.pyplot as plt"
   ]
  },
  {
   "cell_type": "code",
   "execution_count": 4,
   "metadata": {},
   "outputs": [
    {
     "name": "stdout",
     "output_type": "stream",
     "text": [
      "cuda\n"
     ]
    }
   ],
   "source": [
    "if torch.cuda.is_available():\n",
    "    device='cuda'\n",
    "else:\n",
    "    device='cpu'\n",
    "    \n",
    "print(device)"
   ]
  },
  {
   "cell_type": "code",
   "execution_count": 7,
   "metadata": {},
   "outputs": [
    {
     "data": {
      "text/plain": [
       "<torch._C.Generator at 0x23591f09050>"
      ]
     },
     "execution_count": 7,
     "metadata": {},
     "output_type": "execute_result"
    }
   ],
   "source": [
    "## Set random deed for reproducibility\n",
    "torch.manual_seed(42)"
   ]
  },
  {
   "cell_type": "code",
   "execution_count": 8,
   "metadata": {},
   "outputs": [
    {
     "data": {
      "text/html": [
       "<div>\n",
       "<style scoped>\n",
       "    .dataframe tbody tr th:only-of-type {\n",
       "        vertical-align: middle;\n",
       "    }\n",
       "\n",
       "    .dataframe tbody tr th {\n",
       "        vertical-align: top;\n",
       "    }\n",
       "\n",
       "    .dataframe thead th {\n",
       "        text-align: right;\n",
       "    }\n",
       "</style>\n",
       "<table border=\"1\" class=\"dataframe\">\n",
       "  <thead>\n",
       "    <tr style=\"text-align: right;\">\n",
       "      <th></th>\n",
       "      <th>label</th>\n",
       "      <th>pixel1</th>\n",
       "      <th>pixel2</th>\n",
       "      <th>pixel3</th>\n",
       "      <th>pixel4</th>\n",
       "      <th>pixel5</th>\n",
       "      <th>pixel6</th>\n",
       "      <th>pixel7</th>\n",
       "      <th>pixel8</th>\n",
       "      <th>pixel9</th>\n",
       "      <th>...</th>\n",
       "      <th>pixel775</th>\n",
       "      <th>pixel776</th>\n",
       "      <th>pixel777</th>\n",
       "      <th>pixel778</th>\n",
       "      <th>pixel779</th>\n",
       "      <th>pixel780</th>\n",
       "      <th>pixel781</th>\n",
       "      <th>pixel782</th>\n",
       "      <th>pixel783</th>\n",
       "      <th>pixel784</th>\n",
       "    </tr>\n",
       "  </thead>\n",
       "  <tbody>\n",
       "    <tr>\n",
       "      <th>43266</th>\n",
       "      <td>8</td>\n",
       "      <td>0</td>\n",
       "      <td>0</td>\n",
       "      <td>0</td>\n",
       "      <td>0</td>\n",
       "      <td>96</td>\n",
       "      <td>156</td>\n",
       "      <td>157</td>\n",
       "      <td>173</td>\n",
       "      <td>143</td>\n",
       "      <td>...</td>\n",
       "      <td>0</td>\n",
       "      <td>0</td>\n",
       "      <td>0</td>\n",
       "      <td>0</td>\n",
       "      <td>0</td>\n",
       "      <td>0</td>\n",
       "      <td>0</td>\n",
       "      <td>0</td>\n",
       "      <td>1</td>\n",
       "      <td>0</td>\n",
       "    </tr>\n",
       "    <tr>\n",
       "      <th>49472</th>\n",
       "      <td>2</td>\n",
       "      <td>0</td>\n",
       "      <td>0</td>\n",
       "      <td>0</td>\n",
       "      <td>0</td>\n",
       "      <td>0</td>\n",
       "      <td>0</td>\n",
       "      <td>0</td>\n",
       "      <td>2</td>\n",
       "      <td>0</td>\n",
       "      <td>...</td>\n",
       "      <td>0</td>\n",
       "      <td>0</td>\n",
       "      <td>0</td>\n",
       "      <td>115</td>\n",
       "      <td>182</td>\n",
       "      <td>70</td>\n",
       "      <td>0</td>\n",
       "      <td>0</td>\n",
       "      <td>0</td>\n",
       "      <td>0</td>\n",
       "    </tr>\n",
       "    <tr>\n",
       "      <th>22873</th>\n",
       "      <td>3</td>\n",
       "      <td>0</td>\n",
       "      <td>0</td>\n",
       "      <td>0</td>\n",
       "      <td>0</td>\n",
       "      <td>0</td>\n",
       "      <td>0</td>\n",
       "      <td>0</td>\n",
       "      <td>0</td>\n",
       "      <td>0</td>\n",
       "      <td>...</td>\n",
       "      <td>132</td>\n",
       "      <td>114</td>\n",
       "      <td>48</td>\n",
       "      <td>0</td>\n",
       "      <td>0</td>\n",
       "      <td>0</td>\n",
       "      <td>0</td>\n",
       "      <td>0</td>\n",
       "      <td>0</td>\n",
       "      <td>0</td>\n",
       "    </tr>\n",
       "    <tr>\n",
       "      <th>38453</th>\n",
       "      <td>7</td>\n",
       "      <td>0</td>\n",
       "      <td>0</td>\n",
       "      <td>0</td>\n",
       "      <td>0</td>\n",
       "      <td>0</td>\n",
       "      <td>0</td>\n",
       "      <td>0</td>\n",
       "      <td>0</td>\n",
       "      <td>0</td>\n",
       "      <td>...</td>\n",
       "      <td>0</td>\n",
       "      <td>0</td>\n",
       "      <td>0</td>\n",
       "      <td>0</td>\n",
       "      <td>0</td>\n",
       "      <td>0</td>\n",
       "      <td>0</td>\n",
       "      <td>0</td>\n",
       "      <td>0</td>\n",
       "      <td>0</td>\n",
       "    </tr>\n",
       "    <tr>\n",
       "      <th>22609</th>\n",
       "      <td>2</td>\n",
       "      <td>0</td>\n",
       "      <td>0</td>\n",
       "      <td>0</td>\n",
       "      <td>0</td>\n",
       "      <td>0</td>\n",
       "      <td>0</td>\n",
       "      <td>0</td>\n",
       "      <td>0</td>\n",
       "      <td>0</td>\n",
       "      <td>...</td>\n",
       "      <td>104</td>\n",
       "      <td>50</td>\n",
       "      <td>3</td>\n",
       "      <td>115</td>\n",
       "      <td>110</td>\n",
       "      <td>20</td>\n",
       "      <td>0</td>\n",
       "      <td>0</td>\n",
       "      <td>0</td>\n",
       "      <td>0</td>\n",
       "    </tr>\n",
       "  </tbody>\n",
       "</table>\n",
       "<p>5 rows × 785 columns</p>\n",
       "</div>"
      ],
      "text/plain": [
       "       label  pixel1  pixel2  pixel3  pixel4  pixel5  pixel6  pixel7  pixel8  \\\n",
       "43266      8       0       0       0       0      96     156     157     173   \n",
       "49472      2       0       0       0       0       0       0       0       2   \n",
       "22873      3       0       0       0       0       0       0       0       0   \n",
       "38453      7       0       0       0       0       0       0       0       0   \n",
       "22609      2       0       0       0       0       0       0       0       0   \n",
       "\n",
       "       pixel9  ...  pixel775  pixel776  pixel777  pixel778  pixel779  \\\n",
       "43266     143  ...         0         0         0         0         0   \n",
       "49472       0  ...         0         0         0       115       182   \n",
       "22873       0  ...       132       114        48         0         0   \n",
       "38453       0  ...         0         0         0         0         0   \n",
       "22609       0  ...       104        50         3       115       110   \n",
       "\n",
       "       pixel780  pixel781  pixel782  pixel783  pixel784  \n",
       "43266         0         0         0         1         0  \n",
       "49472        70         0         0         0         0  \n",
       "22873         0         0         0         0         0  \n",
       "38453         0         0         0         0         0  \n",
       "22609        20         0         0         0         0  \n",
       "\n",
       "[5 rows x 785 columns]"
      ]
     },
     "execution_count": 8,
     "metadata": {},
     "output_type": "execute_result"
    }
   ],
   "source": [
    "df = pd.read_csv('data/fashion-mnist_train.csv')\n",
    "df.sample(5)"
   ]
  },
  {
   "cell_type": "code",
   "execution_count": 9,
   "metadata": {},
   "outputs": [
    {
     "data": {
      "text/plain": [
       "(60000, 785)"
      ]
     },
     "execution_count": 9,
     "metadata": {},
     "output_type": "execute_result"
    }
   ],
   "source": [
    "df.shape"
   ]
  },
  {
   "cell_type": "markdown",
   "metadata": {},
   "source": [
    "## *See the images data*"
   ]
  },
  {
   "cell_type": "code",
   "execution_count": 10,
   "metadata": {},
   "outputs": [
    {
     "data": {
      "image/png": "[encoded data removed]",
      "text/plain": [
       "<Figure size 1000x1000 with 16 Axes>"
      ]
     },
     "metadata": {},
     "output_type": "display_data"
    }
   ],
   "source": [
    "fig, axes = plt.subplots(4, 4, figsize=(10, 10))\n",
    "fig.suptitle(\"First 16 images\", fontsize=16)\n",
    "\n",
    "## plt the images\n",
    "for i, ax in enumerate(axes.flat):\n",
    "    img = df.iloc[i, 1:].values.reshape(28, 28)\n",
    "    ax.imshow(img)\n",
    "    ax.axis('off')\n",
    "    ax.set_title(f\"Label {df.iloc[i, 0]}\")\n",
    "    \n",
    "    \n",
    "plt.tight_layout(rect=[0, 0, 1, 0.96])\n",
    "plt.show()"
   ]
  },
  {
   "cell_type": "code",
   "execution_count": 11,
   "metadata": {},
   "outputs": [],
   "source": [
    "X = df.iloc[:, 1:].values\n",
    "y = df.iloc[:, 0].values"
   ]
  },
  {
   "cell_type": "code",
   "execution_count": 12,
   "metadata": {},
   "outputs": [],
   "source": [
    "X_train, X_test, y_train, y_test = train_test_split(X, y, test_size=.2, random_state=42)"
   ]
  },
  {
   "cell_type": "code",
   "execution_count": 13,
   "metadata": {},
   "outputs": [],
   "source": [
    "X_train = X_train/ 255.0\n",
    "X_test = X_test / 255.0"
   ]
  },
  {
   "cell_type": "markdown",
   "metadata": {},
   "source": [
    "## *Now Create Custom Dataset class*"
   ]
  },
  {
   "cell_type": "code",
   "execution_count": 14,
   "metadata": {},
   "outputs": [],
   "source": [
    "class CustomDataset(Dataset):\n",
    "    def __init__(self, features, labels):\n",
    "        super().__init__()\n",
    "        self.features = torch.tensor(features, dtype=torch.float32)\n",
    "        self.labels = torch.tensor(labels, dtype=torch.long)\n",
    "        \n",
    "    def __len__(self):\n",
    "        return len(self.features)\n",
    "    \n",
    "    def __getitem__(self, index):\n",
    "        return self.features[index], self.labels[index]"
   ]
  },
  {
   "cell_type": "markdown",
   "metadata": {},
   "source": [
    "#### create train_dataset object"
   ]
  },
  {
   "cell_type": "code",
   "execution_count": 15,
   "metadata": {},
   "outputs": [],
   "source": [
    "train_dataset = CustomDataset(X_train, y_train)"
   ]
  },
  {
   "cell_type": "code",
   "execution_count": 16,
   "metadata": {},
   "outputs": [
    {
     "data": {
      "text/plain": [
       "48000"
      ]
     },
     "execution_count": 16,
     "metadata": {},
     "output_type": "execute_result"
    }
   ],
   "source": [
    "int(len(train_dataset))"
   ]
  },
  {
   "cell_type": "code",
   "execution_count": 17,
   "metadata": {},
   "outputs": [],
   "source": [
    "test_dataset = CustomDataset(X_test, y_test)"
   ]
  },
  {
   "cell_type": "markdown",
   "metadata": {},
   "source": [
    "## create train and test loader"
   ]
  },
  {
   "cell_type": "code",
   "execution_count": null,
   "metadata": {},
   "outputs": [],
   "source": [
    "train_loader = DataLoader(train_dataset, batch_size=32, shuffle=True, pin_memory=True)\n",
    "test_loader = DataLoader(test_dataset, batch_size=32, shuffle=False, pin_memory=True)  ## if do shuffle in prediction time then accuracy will not came exactly."
   ]
  },
  {
   "cell_type": "markdown",
   "metadata": {},
   "source": [
    "## *Define Neural Network Class*"
   ]
  },
  {
   "cell_type": "code",
   "execution_count": 19,
   "metadata": {},
   "outputs": [],
   "source": [
    "class MyNN(nn.Module):\n",
    "    def __init__(self, num_features):\n",
    "        super().__init__()\n",
    "        self.model = nn.Sequential(\n",
    "            nn.Linear(in_features=num_features, out_features=128),\n",
    "            nn.ReLU(),\n",
    "            nn.Linear(in_features=128, out_features=64),\n",
    "            nn.ReLU(),\n",
    "            nn.Linear(in_features=64, out_features=10),\n",
    "            # nn.Softmax() ## Here no need to add explecitly add softmax method in pytorch cross entropy loss there already has softmax implemented\n",
    "        )\n",
    "        \n",
    "    def forward(self, x):\n",
    "        return self.model(x)"
   ]
  },
  {
   "cell_type": "markdown",
   "metadata": {},
   "source": [
    "## Set learning rate and Number of Epochs"
   ]
  },
  {
   "cell_type": "code",
   "execution_count": 20,
   "metadata": {},
   "outputs": [],
   "source": [
    "epochs=100\n",
    "learning_rate = 0.01"
   ]
  },
  {
   "cell_type": "code",
   "execution_count": 21,
   "metadata": {},
   "outputs": [],
   "source": [
    "## insatiate the Model\n",
    "model = MyNN(X_train.shape[1])\n",
    "model = model.to(device=device)\n",
    "\n",
    "## loss function\n",
    "criterion = nn.CrossEntropyLoss()\n",
    "\n",
    "## optimizer\n",
    "optimizer = optim.Adam(model.parameters(), lr=learning_rate)"
   ]
  },
  {
   "cell_type": "markdown",
   "metadata": {},
   "source": [
    "## *Training Loop*"
   ]
  },
  {
   "cell_type": "code",
   "execution_count": 22,
   "metadata": {},
   "outputs": [
    {
     "name": "stdout",
     "output_type": "stream",
     "text": [
      "Epoch: 1 , Loss: 0.5655486205716928\n",
      "Epoch: 2 , Loss: 0.4524860588560502\n",
      "Epoch: 3 , Loss: 0.42773867324739695\n",
      "Epoch: 4 , Loss: 0.41506070354829233\n",
      "Epoch: 5 , Loss: 0.4130784388333559\n",
      "Epoch: 6 , Loss: 0.385960451297462\n",
      "Epoch: 7 , Loss: 0.3969546410292387\n",
      "Epoch: 8 , Loss: 0.3829782746980588\n",
      "Epoch: 9 , Loss: 0.37606004800150794\n",
      "Epoch: 10 , Loss: 0.3883366521994273\n",
      "Epoch: 11 , Loss: 0.3669286671429873\n",
      "Epoch: 12 , Loss: 0.3711383791193366\n",
      "Epoch: 13 , Loss: 0.37445582839349906\n",
      "Epoch: 14 , Loss: 0.36172362202902636\n",
      "Epoch: 15 , Loss: 0.35646876026441654\n",
      "Epoch: 16 , Loss: 0.3598074141715964\n",
      "Epoch: 17 , Loss: 0.3593548300738136\n",
      "Epoch: 18 , Loss: 0.35519748022655645\n",
      "Epoch: 19 , Loss: 0.34822523450354737\n",
      "Epoch: 20 , Loss: 0.3482415198435386\n",
      "Epoch: 21 , Loss: 0.35218704415857793\n",
      "Epoch: 22 , Loss: 0.34693924287954964\n",
      "Epoch: 23 , Loss: 0.34710021153340737\n",
      "Epoch: 24 , Loss: 0.3495143038183451\n",
      "Epoch: 25 , Loss: 0.3409066839839021\n",
      "Epoch: 26 , Loss: 0.34303846540053684\n",
      "Epoch: 27 , Loss: 0.34299857590595884\n",
      "Epoch: 28 , Loss: 0.3416099906290571\n",
      "Epoch: 29 , Loss: 0.33798793759942053\n",
      "Epoch: 30 , Loss: 0.3396605029031634\n",
      "Epoch: 31 , Loss: 0.32955394019931555\n",
      "Epoch: 32 , Loss: 0.3331217242640754\n",
      "Epoch: 33 , Loss: 0.33417245056231815\n",
      "Epoch: 34 , Loss: 0.3294864487188558\n",
      "Epoch: 35 , Loss: 0.3326843019227187\n",
      "Epoch: 36 , Loss: 0.33266599708919725\n",
      "Epoch: 37 , Loss: 0.3278990025023619\n",
      "Epoch: 38 , Loss: 0.33730704358716807\n",
      "Epoch: 39 , Loss: 0.32681202858810626\n",
      "Epoch: 40 , Loss: 0.3262433525659144\n",
      "Epoch: 41 , Loss: 0.32506148009250563\n",
      "Epoch: 42 , Loss: 0.3278539927949508\n",
      "Epoch: 43 , Loss: 0.32799327847920356\n",
      "Epoch: 44 , Loss: 0.33649856119851274\n",
      "Epoch: 45 , Loss: 0.32242497472961745\n",
      "Epoch: 46 , Loss: 0.3323529909513891\n",
      "Epoch: 47 , Loss: 0.33701984949409963\n",
      "Epoch: 48 , Loss: 0.32019584605221946\n",
      "Epoch: 49 , Loss: 0.32026597224051756\n",
      "Epoch: 50 , Loss: 0.331163267634809\n",
      "Epoch: 51 , Loss: 0.3233386066829165\n",
      "Epoch: 52 , Loss: 0.3137214781194925\n",
      "Epoch: 53 , Loss: 0.32423986270527044\n",
      "Epoch: 54 , Loss: 0.3282143800680836\n",
      "Epoch: 55 , Loss: 0.3291838041320443\n",
      "Epoch: 56 , Loss: 0.3161836532205343\n",
      "Epoch: 57 , Loss: 0.31380310028791425\n",
      "Epoch: 58 , Loss: 0.31904676675486066\n",
      "Epoch: 59 , Loss: 0.33315849575648704\n",
      "Epoch: 60 , Loss: 0.3320331182157\n",
      "Epoch: 61 , Loss: 0.31941906978935003\n",
      "Epoch: 62 , Loss: 0.31415641787772375\n",
      "Epoch: 63 , Loss: 0.3333494063702722\n",
      "Epoch: 64 , Loss: 0.33118523314843573\n",
      "Epoch: 65 , Loss: 0.31241051726415753\n",
      "Epoch: 66 , Loss: 0.33414315975209075\n",
      "Epoch: 67 , Loss: 0.32731567063989736\n",
      "Epoch: 68 , Loss: 0.3156720618183414\n",
      "Epoch: 69 , Loss: 0.31056775152186555\n",
      "Epoch: 70 , Loss: 0.3238998964205384\n",
      "Epoch: 71 , Loss: 0.3133436188300451\n",
      "Epoch: 72 , Loss: 0.3184194050009052\n",
      "Epoch: 73 , Loss: 0.30998378705233337\n",
      "Epoch: 74 , Loss: 0.3076727021460732\n",
      "Epoch: 75 , Loss: 0.32927111866200964\n",
      "Epoch: 76 , Loss: 0.3183247446219126\n",
      "Epoch: 77 , Loss: 0.3202413353398442\n",
      "Epoch: 78 , Loss: 0.32356831976523004\n",
      "Epoch: 79 , Loss: 0.31403053758045035\n",
      "Epoch: 80 , Loss: 0.3072717859260738\n",
      "Epoch: 81 , Loss: 0.31087761423240107\n",
      "Epoch: 82 , Loss: 0.3064850924002627\n",
      "Epoch: 83 , Loss: 0.3129507930142184\n",
      "Epoch: 84 , Loss: 0.31249656857550145\n",
      "Epoch: 85 , Loss: 0.32348145701984565\n",
      "Epoch: 86 , Loss: 0.29806706587101023\n",
      "Epoch: 87 , Loss: 0.3105172541290522\n",
      "Epoch: 88 , Loss: 0.31756627637147905\n",
      "Epoch: 89 , Loss: 0.3177601501072447\n",
      "Epoch: 90 , Loss: 0.3099459675115844\n",
      "Epoch: 91 , Loss: 0.31120069066310924\n",
      "Epoch: 92 , Loss: 0.30128678121386715\n",
      "Epoch: 93 , Loss: 0.3082494805852572\n",
      "Epoch: 94 , Loss: 0.3120371640001734\n",
      "Epoch: 95 , Loss: 0.31089647046849134\n",
      "Epoch: 96 , Loss: 0.3068075876869261\n",
      "Epoch: 97 , Loss: 0.3167278891627987\n",
      "Epoch: 98 , Loss: 0.309392525019745\n",
      "Epoch: 99 , Loss: 0.2998386265064279\n",
      "Epoch: 100 , Loss: 0.3058163834015528\n"
     ]
    }
   ],
   "source": [
    "# training loop\n",
    "\n",
    "for epoch in range(epochs):\n",
    "\n",
    "  total_epoch_loss = 0\n",
    "\n",
    "  for batch_features, batch_labels in train_loader:\n",
    "    ## move data to GPU\n",
    "    batch_features, batch_labels = batch_features.to(device), batch_labels.to(device)\n",
    "\n",
    "    # forward pass\n",
    "    outputs = model(batch_features)\n",
    "\n",
    "    # calculate loss\n",
    "    loss = criterion(outputs, batch_labels)\n",
    "\n",
    "    # back pass\n",
    "    optimizer.zero_grad()\n",
    "    loss.backward()\n",
    "\n",
    "    # update grads\n",
    "    optimizer.step()\n",
    "\n",
    "    total_epoch_loss = total_epoch_loss + loss.item()\n",
    "\n",
    "  avg_loss = total_epoch_loss/len(train_loader)\n",
    "  print(f'Epoch: {epoch + 1} , Loss: {avg_loss}')\n"
   ]
  },
  {
   "cell_type": "markdown",
   "metadata": {},
   "source": [
    "# ***Evaluation the model***"
   ]
  },
  {
   "cell_type": "code",
   "execution_count": 57,
   "metadata": {},
   "outputs": [
    {
     "data": {
      "text/plain": [
       "MyNN(\n",
       "  (model): Sequential(\n",
       "    (0): Linear(in_features=784, out_features=128, bias=True)\n",
       "    (1): ReLU()\n",
       "    (2): Linear(in_features=128, out_features=64, bias=True)\n",
       "    (3): ReLU()\n",
       "    (4): Linear(in_features=64, out_features=10, bias=True)\n",
       "  )\n",
       ")"
      ]
     },
     "execution_count": 57,
     "metadata": {},
     "output_type": "execute_result"
    }
   ],
   "source": [
    "model.eval()"
   ]
  },
  {
   "cell_type": "code",
   "execution_count": 23,
   "metadata": {},
   "outputs": [
    {
     "name": "stdout",
     "output_type": "stream",
     "text": [
      "0.86175\n"
     ]
    }
   ],
   "source": [
    "total = 0\n",
    "correct = 0\n",
    "\n",
    "with torch.no_grad():\n",
    "    for batch_features, batch_labels in test_loader:\n",
    "        batch_features, batch_labels = batch_features.to(device), batch_labels.to(device)\n",
    "        outputs = model(batch_features)\n",
    "        _, predicted = torch.max(outputs, 1)\n",
    "        total = total + batch_labels.shape[0]\n",
    "        correct = correct + (predicted == batch_labels).sum().item()\n",
    "\n",
    "print(correct/total)"
   ]
  },
  {
   "cell_type": "code",
   "execution_count": null,
   "metadata": {},
   "outputs": [],
   "source": []
  }
 ],
 "metadata": {
  "kernelspec": {
   "display_name": "torchGPU",
   "language": "python",
   "name": "python3"
  },
  "language_info": {
   "codemirror_mode": {
    "name": "ipython",
    "version": 3
   },
   "file_extension": ".py",
   "mimetype": "text/x-python",
   "name": "python",
   "nbconvert_exporter": "python",
   "pygments_lexer": "ipython3",
   "version": "3.12.4"
  }
 },
 "nbformat": 4,
 "nbformat_minor": 2
}
