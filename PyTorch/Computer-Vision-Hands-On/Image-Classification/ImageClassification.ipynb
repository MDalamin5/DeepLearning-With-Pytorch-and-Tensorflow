{
 "cells": [
  {
   "cell_type": "code",
   "execution_count": 3,
   "id": "dbe1ff8e-732f-4929-b930-c99449e96986",
   "metadata": {},
   "outputs": [
    {
     "data": {
      "text/plain": [
       "'2.3.1+cu118'"
      ]
     },
     "execution_count": 3,
     "metadata": {},
     "output_type": "execute_result"
    }
   ],
   "source": [
    "import torch\n",
    "torch.__version__"
   ]
  },
  {
   "cell_type": "code",
   "execution_count": 4,
   "id": "2a53990a-fc1e-4fd0-852e-7ca81d7a6bd0",
   "metadata": {},
   "outputs": [],
   "source": [
    "from torch import nn\n",
    "from torch.utils.data import DataLoader\n",
    "from torchvision import datasets\n",
    "from torchvision.transforms import ToTensor, Lambda, Compose\n",
    "import matplotlib.pyplot as plt"
   ]
  },
  {
   "cell_type": "markdown",
   "id": "a8ab401c-5546-4e43-b4aa-5d1ebb73eef6",
   "metadata": {},
   "source": [
    "## Downloading The Data"
   ]
  },
  {
   "cell_type": "code",
   "execution_count": 5,
   "id": "ca3b95f4-27e1-4604-a32d-96546de32cc8",
   "metadata": {},
   "outputs": [
    {
     "name": "stdout",
     "output_type": "stream",
     "text": [
      "Downloading http://fashion-mnist.s3-website.eu-central-1.amazonaws.com/train-images-idx3-ubyte.gz\n",
      "Downloading http://fashion-mnist.s3-website.eu-central-1.amazonaws.com/train-images-idx3-ubyte.gz to data\\FashionMNIST\\raw\\train-images-idx3-ubyte.gz\n"
     ]
    },
    {
     "name": "stderr",
     "output_type": "stream",
     "text": [
      "100%|█████████████████████████████████████████████████████████████████| 26421880/26421880 [00:07<00:00, 3628681.67it/s]\n"
     ]
    },
    {
     "name": "stdout",
     "output_type": "stream",
     "text": [
      "Extracting data\\FashionMNIST\\raw\\train-images-idx3-ubyte.gz to data\\FashionMNIST\\raw\n",
      "\n",
      "Downloading http://fashion-mnist.s3-website.eu-central-1.amazonaws.com/train-labels-idx1-ubyte.gz\n",
      "Downloading http://fashion-mnist.s3-website.eu-central-1.amazonaws.com/train-labels-idx1-ubyte.gz to data\\FashionMNIST\\raw\\train-labels-idx1-ubyte.gz\n"
     ]
    },
    {
     "name": "stderr",
     "output_type": "stream",
     "text": [
      "100%|█████████████████████████████████████████████████████████████████████████| 29515/29515 [00:00<00:00, 82945.87it/s]\n"
     ]
    },
    {
     "name": "stdout",
     "output_type": "stream",
     "text": [
      "Extracting data\\FashionMNIST\\raw\\train-labels-idx1-ubyte.gz to data\\FashionMNIST\\raw\n",
      "\n",
      "Downloading http://fashion-mnist.s3-website.eu-central-1.amazonaws.com/t10k-images-idx3-ubyte.gz\n",
      "Downloading http://fashion-mnist.s3-website.eu-central-1.amazonaws.com/t10k-images-idx3-ubyte.gz to data\\FashionMNIST\\raw\\t10k-images-idx3-ubyte.gz\n"
     ]
    },
    {
     "name": "stderr",
     "output_type": "stream",
     "text": [
      "100%|███████████████████████████████████████████████████████████████████| 4422102/4422102 [00:02<00:00, 1543425.98it/s]\n"
     ]
    },
    {
     "name": "stdout",
     "output_type": "stream",
     "text": [
      "Extracting data\\FashionMNIST\\raw\\t10k-images-idx3-ubyte.gz to data\\FashionMNIST\\raw\n",
      "\n",
      "Downloading http://fashion-mnist.s3-website.eu-central-1.amazonaws.com/t10k-labels-idx1-ubyte.gz\n",
      "Downloading http://fashion-mnist.s3-website.eu-central-1.amazonaws.com/t10k-labels-idx1-ubyte.gz to data\\FashionMNIST\\raw\\t10k-labels-idx1-ubyte.gz\n"
     ]
    },
    {
     "name": "stderr",
     "output_type": "stream",
     "text": [
      "100%|███████████████████████████████████████████████████████████████████████████| 5148/5148 [00:00<00:00, 28271.25it/s]"
     ]
    },
    {
     "name": "stdout",
     "output_type": "stream",
     "text": [
      "Extracting data\\FashionMNIST\\raw\\t10k-labels-idx1-ubyte.gz to data\\FashionMNIST\\raw\n",
      "\n"
     ]
    },
    {
     "name": "stderr",
     "output_type": "stream",
     "text": [
      "\n"
     ]
    }
   ],
   "source": [
    "traing_data = datasets.FashionMNIST(\n",
    "    root=\"data\",\n",
    "    train=True,\n",
    "    download=True,\n",
    "    transform=ToTensor()\n",
    ")\n",
    "\n",
    "test_data = datasets.FashionMNIST(\n",
    "    root=\"data\",\n",
    "    train=False,\n",
    "    download=True,\n",
    "    transform=ToTensor()\n",
    ")"
   ]
  },
  {
   "cell_type": "code",
   "execution_count": 6,
   "id": "452bdfeb-4d3e-4018-ae5e-44f26614092b",
   "metadata": {},
   "outputs": [],
   "source": [
    "batch_size = 64\n",
    "train_dataloader = DataLoader(traing_data, batch_size=batch_size)\n",
    "test_dataloader = DataLoader(test_data, batch_size=batch_size)"
   ]
  },
  {
   "cell_type": "code",
   "execution_count": 7,
   "id": "5b363e91-a556-460f-b49d-aa9c915bb734",
   "metadata": {},
   "outputs": [
    {
     "data": {
      "text/plain": [
       "<torch.utils.data.dataloader.DataLoader at 0x22c3a3057f0>"
      ]
     },
     "execution_count": 7,
     "metadata": {},
     "output_type": "execute_result"
    }
   ],
   "source": [
    "train_dataloader"
   ]
  },
  {
   "cell_type": "markdown",
   "id": "15e9a42b-60dc-4295-9bb3-3deee88d6324",
   "metadata": {},
   "source": [
    "## To check image pixels"
   ]
  },
  {
   "cell_type": "code",
   "execution_count": 9,
   "id": "d277cf0e-592b-46c8-82d4-e7094f31c241",
   "metadata": {},
   "outputs": [],
   "source": [
    "# for x, y in test_dataloader:\n",
    "#     print(x, y)"
   ]
  },
  {
   "cell_type": "code",
   "execution_count": 11,
   "id": "d43cf08d-544d-4ef7-aa4f-4efaa0c2d06c",
   "metadata": {},
   "outputs": [
    {
     "data": {
      "text/plain": [
       "'cuda'"
      ]
     },
     "execution_count": 11,
     "metadata": {},
     "output_type": "execute_result"
    }
   ],
   "source": [
    "device = \"cuda\" if torch.cuda.is_available() else 'cpu'   # Autometicly set gpu or cpu\n",
    "device"
   ]
  },
  {
   "cell_type": "markdown",
   "id": "85cfb9e2-6b40-4241-b9eb-2f36550f685b",
   "metadata": {},
   "source": [
    "## Define Our Custome Model"
   ]
  },
  {
   "cell_type": "code",
   "execution_count": 15,
   "id": "5b5185b2-0a8d-4da4-a5fe-dce377f2b52f",
   "metadata": {},
   "outputs": [],
   "source": [
    "class NeuralNetworks(nn.Module):\n",
    "    def __init__(self):\n",
    "        super(NeuralNetworks, self).__init__()\n",
    "        self.flatten = nn.Flatten()\n",
    "        self.linear_relu_stack = nn.Sequential(\n",
    "            nn.Linear(28*28, 512),\n",
    "            nn.ReLU(),\n",
    "            nn.Linear(512, 512),\n",
    "            nn.ReLU(),\n",
    "            nn.Linear(512, 10)\n",
    "        )\n",
    "\n",
    "\n",
    "    def forward(self, x):\n",
    "        x = self.flatten(x)\n",
    "        logits = self.linear_relu_stack(x)\n",
    "        return logits"
   ]
  },
  {
   "cell_type": "code",
   "execution_count": 16,
   "id": "0f422129-6662-4a8e-af45-78ba83f6a613",
   "metadata": {},
   "outputs": [
    {
     "name": "stdout",
     "output_type": "stream",
     "text": [
      "NeuralNetworks(\n",
      "  (flatten): Flatten(start_dim=1, end_dim=-1)\n",
      "  (linear_relu_stack): Sequential(\n",
      "    (0): Linear(in_features=784, out_features=512, bias=True)\n",
      "    (1): ReLU()\n",
      "    (2): Linear(in_features=512, out_features=512, bias=True)\n",
      "    (3): ReLU()\n",
      "    (4): Linear(in_features=512, out_features=10, bias=True)\n",
      "  )\n",
      ")\n"
     ]
    }
   ],
   "source": [
    "model = NeuralNetworks().to(device)\n",
    "print(model)"
   ]
  },
  {
   "cell_type": "code",
   "execution_count": 18,
   "id": "3dee563c-9be7-40bb-8667-9b67bb1088fc",
   "metadata": {},
   "outputs": [],
   "source": [
    "loss_fn = nn.CrossEntropyLoss()\n",
    "optimizer = torch.optim.SGD(model.parameters(), lr = 1e-3)"
   ]
  },
  {
   "cell_type": "markdown",
   "id": "a5a52169-5a4d-4f5b-91e5-afbf315e2ca2",
   "metadata": {},
   "source": [
    "## Traing Loop"
   ]
  },
  {
   "cell_type": "code",
   "execution_count": 20,
   "id": "cad080ba-c1eb-4aad-b505-ee1936f11313",
   "metadata": {},
   "outputs": [],
   "source": [
    "def train(dataloader, model, loss_fn, optimizer):\n",
    "    size = len(dataloader.dataset)\n",
    "    model.train()\n",
    "    for batch, (X, y) in enumerate(dataloader):\n",
    "        X, y = X.to(device), y.to(device)\n",
    "\n",
    "        #compute prediction erro\n",
    "        pred = model(X)\n",
    "        loss = loss_fn(pred, y)\n",
    "\n",
    "        # Backpropagration\n",
    "        optimizer.zero_grad()\n",
    "        loss.backward()\n",
    "        optimizer.step()\n",
    "\n",
    "        if batch % 100 == 0:\n",
    "            loss, current = loss.item(), batch * len(x)\n",
    "            print(f\"loss: {loss:>7f} [{current:>5d}/{size:>5d}] \")\n",
    "        "
   ]
  },
  {
   "cell_type": "markdown",
   "id": "03d4d43c-59da-4c94-939c-8f20593e5462",
   "metadata": {},
   "source": [
    "## test loop"
   ]
  },
  {
   "cell_type": "code",
   "execution_count": 24,
   "id": "2e4c1645-0d1a-4b9b-ac26-e4d789276c51",
   "metadata": {},
   "outputs": [],
   "source": [
    "def test(dataloader, model, loss_fn):\n",
    "    size = len(dataloader.dataset)\n",
    "    num_batches = len(dataloader)\n",
    "    model.eval()\n",
    "    test_loss, correct = 0, 0\n",
    "    with torch.no_grad():\n",
    "        for X, y in dataloader:\n",
    "            \n",
    "            X, y = X.to(device), y.to(device)\n",
    "\n",
    "            #compute prediction erro\n",
    "            pred = model(X)\n",
    "            test_loss += loss_fn(pred, y).item()\n",
    "            correct += (pred.argmax(1) == y).type(torch.float).sum().item()\n",
    "    test_loss /= num_batches\n",
    "    correct /= size\n",
    "    print(f\"Test Error: \\n Accuracy: {(100*correct):>0.1f}%, avg loss: {test_loss:8f} \")\n",
    "    \n",
    "        \n",
    "        "
   ]
  },
  {
   "cell_type": "code",
   "execution_count": 25,
   "id": "4fe43716-503d-47ab-826d-35d76ff112e6",
   "metadata": {},
   "outputs": [
    {
     "name": "stdout",
     "output_type": "stream",
     "text": [
      "Epoch 1\n",
      "------------------------------- \n",
      "loss: 1.922453 [    0/60000] \n",
      "loss: 1.904216 [ 1600/60000] \n",
      "loss: 1.785156 [ 3200/60000] \n",
      "loss: 1.834580 [ 4800/60000] \n",
      "loss: 1.739208 [ 6400/60000] \n",
      "loss: 1.666416 [ 8000/60000] \n",
      "loss: 1.696552 [ 9600/60000] \n",
      "loss: 1.588772 [11200/60000] \n",
      "loss: 1.607755 [12800/60000] \n",
      "loss: 1.506827 [14400/60000] \n",
      "Test Error: \n",
      " Accuracy: 61.4%, avg loss: 1.534271 \n",
      "Epoch 2\n",
      "------------------------------- \n",
      "loss: 1.595600 [    0/60000] \n",
      "loss: 1.569122 [ 1600/60000] \n",
      "loss: 1.412953 [ 3200/60000] \n",
      "loss: 1.495320 [ 4800/60000] \n",
      "loss: 1.390973 [ 6400/60000] \n",
      "loss: 1.361906 [ 8000/60000] \n",
      "loss: 1.385978 [ 9600/60000] \n",
      "loss: 1.297416 [11200/60000] \n",
      "loss: 1.331980 [12800/60000] \n",
      "loss: 1.235545 [14400/60000] \n",
      "Test Error: \n",
      " Accuracy: 62.9%, avg loss: 1.268277 \n",
      "Epoch 3\n",
      "------------------------------- \n",
      "loss: 1.343830 [    0/60000] \n",
      "loss: 1.330438 [ 1600/60000] \n",
      "loss: 1.157829 [ 3200/60000] \n",
      "loss: 1.274546 [ 4800/60000] \n",
      "loss: 1.164225 [ 6400/60000] \n",
      "loss: 1.165047 [ 8000/60000] \n",
      "loss: 1.195827 [ 9600/60000] \n",
      "loss: 1.118028 [11200/60000] \n",
      "loss: 1.156083 [12800/60000] \n",
      "loss: 1.075654 [14400/60000] \n",
      "Test Error: \n",
      " Accuracy: 64.0%, avg loss: 1.103083 \n",
      "Epoch 4\n",
      "------------------------------- \n",
      "loss: 1.174873 [    0/60000] \n",
      "loss: 1.179460 [ 1600/60000] \n",
      "loss: 0.991028 [ 3200/60000] \n",
      "loss: 1.134823 [ 4800/60000] \n",
      "loss: 1.023252 [ 6400/60000] \n",
      "loss: 1.032976 [ 8000/60000] \n",
      "loss: 1.077479 [ 9600/60000] \n",
      "loss: 1.003886 [11200/60000] \n",
      "loss: 1.039355 [12800/60000] \n",
      "loss: 0.974596 [14400/60000] \n",
      "Test Error: \n",
      " Accuracy: 65.1%, avg loss: 0.995486 \n",
      "Epoch 5\n",
      "------------------------------- \n",
      "loss: 1.056442 [    0/60000] \n",
      "loss: 1.080428 [ 1600/60000] \n",
      "loss: 0.876263 [ 3200/60000] \n",
      "loss: 1.039879 [ 4800/60000] \n",
      "loss: 0.933075 [ 6400/60000] \n",
      "loss: 0.938892 [ 8000/60000] \n",
      "loss: 0.999923 [ 9600/60000] \n",
      "loss: 0.928849 [11200/60000] \n",
      "loss: 0.957380 [12800/60000] \n",
      "loss: 0.906367 [14400/60000] \n",
      "Test Error: \n",
      " Accuracy: 66.5%, avg loss: 0.921361 \n",
      "Epoch 6\n",
      "------------------------------- \n",
      "loss: 0.968321 [    0/60000] \n",
      "loss: 1.011059 [ 1600/60000] \n",
      "loss: 0.792945 [ 3200/60000] \n",
      "loss: 0.971302 [ 4800/60000] \n",
      "loss: 0.871903 [ 6400/60000] \n",
      "loss: 0.869585 [ 8000/60000] \n",
      "loss: 0.945191 [ 9600/60000] \n",
      "loss: 0.878232 [11200/60000] \n",
      "loss: 0.897804 [12800/60000] \n",
      "loss: 0.856580 [14400/60000] \n",
      "Test Error: \n",
      " Accuracy: 67.8%, avg loss: 0.867500 \n",
      "Epoch 7\n",
      "------------------------------- \n",
      "loss: 0.899810 [    0/60000] \n",
      "loss: 0.958449 [ 1600/60000] \n",
      "loss: 0.730155 [ 3200/60000] \n",
      "loss: 0.919346 [ 4800/60000] \n",
      "loss: 0.828367 [ 6400/60000] \n",
      "loss: 0.816907 [ 8000/60000] \n",
      "loss: 0.904045 [ 9600/60000] \n",
      "loss: 0.843098 [11200/60000] \n",
      "loss: 0.853317 [12800/60000] \n",
      "loss: 0.818160 [14400/60000] \n",
      "Test Error: \n",
      " Accuracy: 68.9%, avg loss: 0.826604 \n",
      "Epoch 8\n",
      "------------------------------- \n",
      "loss: 0.844795 [    0/60000] \n",
      "loss: 0.916248 [ 1600/60000] \n",
      "loss: 0.681515 [ 3200/60000] \n",
      "loss: 0.878794 [ 4800/60000] \n",
      "loss: 0.795622 [ 6400/60000] \n",
      "loss: 0.776311 [ 8000/60000] \n",
      "loss: 0.870881 [ 9600/60000] \n",
      "loss: 0.817600 [11200/60000] \n",
      "loss: 0.818998 [12800/60000] \n",
      "loss: 0.787130 [14400/60000] \n",
      "Test Error: \n",
      " Accuracy: 70.4%, avg loss: 0.794270 \n",
      "Epoch 9\n",
      "------------------------------- \n",
      "loss: 0.799386 [    0/60000] \n",
      "loss: 0.880599 [ 1600/60000] \n",
      "loss: 0.642463 [ 3200/60000] \n",
      "loss: 0.846564 [ 4800/60000] \n",
      "loss: 0.769674 [ 6400/60000] \n",
      "loss: 0.744394 [ 8000/60000] \n",
      "loss: 0.842524 [ 9600/60000] \n",
      "loss: 0.797804 [11200/60000] \n",
      "loss: 0.791653 [12800/60000] \n",
      "loss: 0.761107 [14400/60000] \n",
      "Test Error: \n",
      " Accuracy: 71.7%, avg loss: 0.767580 \n",
      "Epoch 10\n",
      "------------------------------- \n",
      "loss: 0.760921 [    0/60000] \n",
      "loss: 0.849522 [ 1600/60000] \n",
      "loss: 0.610298 [ 3200/60000] \n",
      "loss: 0.820134 [ 4800/60000] \n",
      "loss: 0.748091 [ 6400/60000] \n",
      "loss: 0.718777 [ 8000/60000] \n",
      "loss: 0.817425 [ 9600/60000] \n",
      "loss: 0.781621 [11200/60000] \n",
      "loss: 0.769317 [12800/60000] \n",
      "loss: 0.738700 [14400/60000] \n",
      "Test Error: \n",
      " Accuracy: 72.8%, avg loss: 0.744791 \n",
      "Traing Done\n"
     ]
    }
   ],
   "source": [
    "## Start The tring\n",
    "\n",
    "epochs = 10\n",
    "for t in range(epochs):\n",
    "    print(f\"Epoch {t + 1}\\n------------------------------- \")\n",
    "    train(train_dataloader, model, loss_fn, optimizer)\n",
    "    test(test_dataloader, model, loss_fn)\n",
    "\n",
    "print(\"Traing Done\")"
   ]
  },
  {
   "cell_type": "code",
   "execution_count": null,
   "id": "d21d4823-30b6-4a18-aea4-f90ed5e992bc",
   "metadata": {},
   "outputs": [],
   "source": []
  }
 ],
 "metadata": {
  "kernelspec": {
   "display_name": "Python 3 (ipykernel)",
   "language": "python",
   "name": "python3"
  },
  "language_info": {
   "codemirror_mode": {
    "name": "ipython",
    "version": 3
   },
   "file_extension": ".py",
   "mimetype": "text/x-python",
   "name": "python",
   "nbconvert_exporter": "python",
   "pygments_lexer": "ipython3",
   "version": "3.12.4"
  }
 },
 "nbformat": 4,
 "nbformat_minor": 5
}
